{
 "cells": [
  {
   "cell_type": "markdown",
   "id": "a2763f07",
   "metadata": {},
   "source": [
    "# BS_CFP_singleCond_v1\n",
    "\n",
    "#### This note book is designed with the same spatial and hydrological parameters as the BS_CFP_v1 model, except that the model here has a single, straight conduit built in and does NOT use pyKasso to simulate the conduit network based off from geologic field data"
   ]
  },
  {
   "cell_type": "markdown",
   "id": "d760d483",
   "metadata": {},
   "source": [
    "## Import packages necessary to run CFPy, flopy"
   ]
  },
  {
   "cell_type": "code",
   "execution_count": 2,
   "id": "890ec2ce",
   "metadata": {},
   "outputs": [],
   "source": [
    "##Import package dependencies\n",
    "import numpy as np\n",
    "import pandas as pd\n",
    "import matplotlib\n",
    "import matplotlib.pyplot as plt\n",
    "from mpl_toolkits.mplot3d import Axes3D\n",
    "import os\n",
    "\n",
    "import CFPy as cfpy\n",
    "import flopy as flopy\n",
    "path=\"\""
   ]
  },
  {
   "cell_type": "markdown",
   "id": "10fbc09d",
   "metadata": {},
   "source": [
    "## Show Versions w/ line magic\n",
    "Show the versions of python and the imported packages being used in this model"
   ]
  },
  {
   "cell_type": "code",
   "execution_count": 3,
   "id": "45ccad1e",
   "metadata": {},
   "outputs": [
    {
     "name": "stdout",
     "output_type": "stream",
     "text": [
      "The watermark extension is already loaded. To reload it, use:\n",
      "  %reload_ext watermark\n"
     ]
    }
   ],
   "source": [
    "%load_ext watermark"
   ]
  },
  {
   "cell_type": "code",
   "execution_count": 4,
   "id": "75e6b3b5",
   "metadata": {
    "scrolled": true
   },
   "outputs": [
    {
     "name": "stdout",
     "output_type": "stream",
     "text": [
      "Last updated: 2023-04-03T11:29:19.986863-05:00\n",
      "\n",
      "Python implementation: CPython\n",
      "Python version       : 3.9.16\n",
      "IPython version      : 8.10.0\n",
      "\n",
      "Compiler    : MSC v.1929 64 bit (AMD64)\n",
      "OS          : Windows\n",
      "Release     : 10\n",
      "Machine     : AMD64\n",
      "Processor   : Intel64 Family 6 Model 158 Stepping 13, GenuineIntel\n",
      "CPU cores   : 8\n",
      "Architecture: 64bit\n",
      "\n"
     ]
    }
   ],
   "source": [
    "%watermark"
   ]
  },
  {
   "cell_type": "code",
   "execution_count": 5,
   "id": "e77c6ad6",
   "metadata": {
    "scrolled": true
   },
   "outputs": [
    {
     "name": "stdout",
     "output_type": "stream",
     "text": [
      "pandas    : 1.5.3\n",
      "matplotlib: 3.7.0\n",
      "flopy     : 3.3.6\n",
      "CFPy      : 0.1\n",
      "numpy     : 1.24.2\n",
      "\n"
     ]
    }
   ],
   "source": [
    "%watermark --iversions"
   ]
  },
  {
   "cell_type": "markdown",
   "id": "e5ab2c6d",
   "metadata": {},
   "source": [
    "## Generate the synthetic karst system using CFP MODE 1"
   ]
  },
  {
   "cell_type": "markdown",
   "id": "9d1a5242",
   "metadata": {},
   "source": [
    "### Set up the appropriate directories (no pyKasso)"
   ]
  },
  {
   "cell_type": "code",
   "execution_count": null,
   "id": "047ffb39",
   "metadata": {},
   "outputs": [],
   "source": [
    "### Change the active directory to the model directory\n",
    "if not os.path.exists(path):\n",
    "    nb_dir = os.getcwd()\n",
    "    path = os.path.join(nb_dir)"
   ]
  }
 ],
 "metadata": {
  "kernelspec": {
   "display_name": "Python 3 (ipykernel)",
   "language": "python",
   "name": "python3"
  },
  "language_info": {
   "codemirror_mode": {
    "name": "ipython",
    "version": 3
   },
   "file_extension": ".py",
   "mimetype": "text/x-python",
   "name": "python",
   "nbconvert_exporter": "python",
   "pygments_lexer": "ipython3",
   "version": "3.9.16"
  }
 },
 "nbformat": 4,
 "nbformat_minor": 5
}
