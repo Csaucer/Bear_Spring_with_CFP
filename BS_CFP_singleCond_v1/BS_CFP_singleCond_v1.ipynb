{
 "cells": [
  {
   "cell_type": "markdown",
   "id": "a2763f07",
   "metadata": {},
   "source": [
    "# BS_CFP_singleCond_v1\n",
    "\n",
    "#### This note book is designed with the same spatial and hydrological parameters as the BS_CFP_v1 model, except that the model here has a single, straight conduit built in and does NOT use pyKasso to simulate the conduit network based off from geologic field data"
   ]
  },
  {
   "cell_type": "markdown",
   "id": "d760d483",
   "metadata": {},
   "source": [
    "## Import packages necessary to run CFPy, flopy"
   ]
  },
  {
   "cell_type": "code",
   "execution_count": 87,
   "id": "890ec2ce",
   "metadata": {},
   "outputs": [],
   "source": [
    "##Import package dependencies\n",
    "import numpy as np\n",
    "import pandas as pd\n",
    "import matplotlib\n",
    "import matplotlib.pyplot as plt\n",
    "from mpl_toolkits.mplot3d import Axes3D\n",
    "import os\n",
    "import glob\n",
    "\n",
    "import CFPy as cfpy\n",
    "import flopy as flopy\n",
    "path=\"\""
   ]
  },
  {
   "cell_type": "markdown",
   "id": "10fbc09d",
   "metadata": {},
   "source": [
    "## Show Versions w/ line magic\n",
    "Show the versions of python and the imported packages being used in this model"
   ]
  },
  {
   "cell_type": "code",
   "execution_count": 88,
   "id": "45ccad1e",
   "metadata": {},
   "outputs": [],
   "source": [
    "%load_ext watermark"
   ]
  },
  {
   "cell_type": "code",
   "execution_count": 89,
   "id": "75e6b3b5",
   "metadata": {
    "scrolled": true
   },
   "outputs": [],
   "source": [
    "%watermark"
   ]
  },
  {
   "cell_type": "code",
   "execution_count": 90,
   "id": "e77c6ad6",
   "metadata": {
    "scrolled": true
   },
   "outputs": [],
   "source": [
    "%watermark --iversions"
   ]
  },
  {
   "cell_type": "code",
   "execution_count": 91,
   "id": "e607149c",
   "metadata": {},
   "outputs": [],
   "source": [
    "##Define helper functions\n",
    "def position_to_index(x, y):\n",
    "    \"\"\"\n",
    "    Get the modflow (!) based index for a given geo position\n",
    "    \n",
    "    Keyword Arguments\n",
    "    x -- x position, m\n",
    "    y -- y position, m\n",
    "    \n",
    "    Return\n",
    "    column index, row index\n",
    "    \"\"\"\n",
    "    \n",
    "    col_idx = np.floor(x / delr) + 1\n",
    "    row_idx = n_rows - np.floor(y / delc)\n",
    "    \n",
    "    return col_idx, row_idx\n",
    "\n",
    "def store_results(number):\n",
    "    \"\"\"\n",
    "    Create a directory and put the current results there\n",
    "    \n",
    "    Keyword Arguments\n",
    "    number -- identifier of the current iteration, float or int\n",
    "    \n",
    "    Return\n",
    "    -\n",
    "    \"\"\"\n",
    "    \n",
    "    # define directory where to store the results\n",
    "    target_dir = os.path.join(path, f\"run_{number}\")\n",
    "    \n",
    "    # make sure the directory does not exist\n",
    "    if os.path.exists(target_dir):\n",
    "        raise Exception(f\"Directory {target_dir} exists already! Unable to write results\")\n",
    "        \n",
    "    # create directory\n",
    "    os.makedirs(target_dir)\n",
    "    \n",
    "    # get alle files that will be moved\n",
    "    files_to_move = glob.glob(\"NODE*\") + glob.glob(\"TUBE*\") \\\n",
    "                    + [f\"{modelname}.list\", f\"{modelname}.hds\", f\"{modelname}.cbc\"] \\\n",
    "                    + [f\"network_{number}.png\"] \\\n",
    "                    + glob.glob(\"*.nbr\") + glob.glob(\"*.coc\") + glob.glob(\"*.cfp\") + glob.glob(\"*.crch\")\n",
    "    \n",
    "    # move files to directory\n",
    "    for f in files_to_move:\n",
    "        source = os.path.join(path, f)\n",
    "        destination = os.path.join(target_dir, f)\n",
    "        shutil.move(source, destination)\n",
    "\n",
    "def clean_results():\n",
    "    \"\"\"\n",
    "    Remove all run-dictionaries\n",
    "    \n",
    "    Keyword Arguments\n",
    "    -\n",
    "    \n",
    "    Return\n",
    "    -\n",
    "    \"\"\"    \n",
    "    run_dirs = glob.glob(os.path.join(path, \"run_*\"))    \n",
    "    for rd in run_dirs:\n",
    "        shutil.rmtree(rd)\n",
    "        \n",
    "def plot_network(valid_network, number):\n",
    "    \"\"\"\n",
    "    Plot and save valid network array as png\n",
    "    \n",
    "    Keyword Arguments\n",
    "    valid_network -- valid network array\n",
    "    number -- identifier of the current iteration, float or int\n",
    "    \n",
    "    Return\n",
    "    -\n",
    "    \"\"\"\n",
    "    \n",
    "    # create a figure \n",
    "    fig = plt.figure(figsize=(10, 10))\n",
    "    \n",
    "    # plot the array\n",
    "    im = plt.imshow(valid_network)\n",
    "    cb = plt.colorbar(im, shrink=0.3)\n",
    "    \n",
    "    # set descriptions\n",
    "    plt.xlabel(\"Spaltenindex\", size=14)\n",
    "    plt.ylabel(\"Reihenindex\", size =14)\n",
    "    cb.set_label(\"Höhe, m\", size=14)\n",
    "    \n",
    "    # save figure\n",
    "    plt.savefig(f'network_{number}.png')"
   ]
  },
  {
   "cell_type": "markdown",
   "id": "e5ab2c6d",
   "metadata": {},
   "source": [
    "## Generate the synthetic karst system using CFP MODE 1"
   ]
  },
  {
   "cell_type": "markdown",
   "id": "9d1a5242",
   "metadata": {},
   "source": [
    "### Set up the appropriate directories (no pyKasso)"
   ]
  },
  {
   "cell_type": "code",
   "execution_count": 92,
   "id": "047ffb39",
   "metadata": {},
   "outputs": [],
   "source": [
    "### Change the active directory to the model directory\n",
    "if not os.path.exists(path):\n",
    "    nb_dir = os.getcwd()\n",
    "    path = os.path.join(nb_dir)"
   ]
  },
  {
   "cell_type": "markdown",
   "id": "d545ab0d",
   "metadata": {},
   "source": [
    "### Create a basic MODFLOW Model using FloPy"
   ]
  },
  {
   "cell_type": "code",
   "execution_count": 93,
   "id": "532a87cb",
   "metadata": {},
   "outputs": [],
   "source": [
    "### Define the model object\n",
    "os.chdir(path)\n",
    "modelname = \"BS_CFP_singleCond_v1\"\n",
    "##Using CFPv2 here which has CADS support\n",
    "# to change, type in the correct FP version for the exe_name\n",
    "mf = flopy.modflow.Modflow(modelname, exe_name=\"cfpv2\")"
   ]
  },
  {
   "cell_type": "markdown",
   "id": "efbb5658",
   "metadata": {},
   "source": [
    "### Define the general domain characteristics (same as the complex CFP model with the pyKasso network)"
   ]
  },
  {
   "cell_type": "markdown",
   "id": "54632711",
   "metadata": {},
   "source": [
    "#### Spatial Domain Characteristics"
   ]
  },
  {
   "cell_type": "code",
   "execution_count": 94,
   "id": "9a1a871d",
   "metadata": {},
   "outputs": [],
   "source": [
    "#Import the necessary layer elevation data and make copies of it\n",
    "topo = np.genfromtxt(r'bear_inputs\\model_DEM_10x10_smooth.csv', delimiter=',')\n",
    "ztop = topo.copy()   #create a copy of the topography file\n",
    "topBedr = np.genfromtxt(r'bear_inputs\\model_bedr_topo10x10_smooth.csv', delimiter=',')\n",
    "ztopBedr = topBedr.copy()\n",
    "topOSTP = np.genfromtxt(r'bear_inputs\\model_OSTP_top_10x10.csv', delimiter=',')\n",
    "topODCH = topOSTP + 15\n",
    "ztopOSTP = topOSTP.copy()\n",
    "botOSTP = np.genfromtxt(r'bear_inputs\\Model_OSTP_Botm_10x10.csv', delimiter=',')   #load bottom elevation of model from csv file\n",
    "botODCH = botOSTP + 15\n",
    "zbotOSTP = botOSTP.copy()"
   ]
  },
  {
   "cell_type": "code",
   "execution_count": 95,
   "id": "8742449a",
   "metadata": {},
   "outputs": [],
   "source": [
    "# of rows, layers, and columns in the domain, int\n",
    "n_rows = 280\n",
    "n_cols = 364\n",
    "n_lays=3\n",
    "#width of each cell along rows/columns\n",
    "delr = 10.\n",
    "delc = 10.\n",
    "\n",
    "Lx = n_cols*delr\n",
    "Ly = n_rows*delc\n",
    "\n",
    "#layer properties (utilizing field values provided by Tony, averaging for the bulk \"Galena Group\")\n",
    "layers = np.arange(n_lays)\n",
    "topm = ztop\n",
    "laytyp = [1.,1.,1.]   ##whether each layer is unconfined\n",
    "laycbd = [0,0,1]   ##whether or not each layer has a confining unit below it\n",
    "botm = np.full((n_lays,n_rows,n_cols), ztopBedr) # create arrays of default layer bottoms for each unit\n",
    "botm[0,:,:] = ztopBedr-1  ##subtracting 1 to prevent modflow errors with intersecting elevations (thin unconsolidated layer)\n",
    "botm[1,:,:] = topODCH\n",
    "botm[2,:,:] = botODCH\n",
    "\n",
    "layer_elevations = [topm, botm[0], botm[1], botm[2]]"
   ]
  },
  {
   "cell_type": "markdown",
   "id": "9bca1db5",
   "metadata": {},
   "source": [
    "### Hydraulic characteristics"
   ]
  },
  {
   "cell_type": "code",
   "execution_count": 96,
   "id": "db18607a",
   "metadata": {},
   "outputs": [],
   "source": [
    "## Horizontal and vertical hydraulic conductivity of the Porous matrix [L/T]\n",
    "## For the start using a uniform hydraulic conductivity across the entire domain (all layers)\n",
    "#hk= 51891.95 ## in m/yr taken from the galena porosity spreadsheet (averaged over the OGSV, OGPR, OGCM)\n",
    "hk = np.full((n_lays,n_rows,n_cols),51891.95)\n",
    "vka= 0.4\n",
    "#specific storage[1?L] and specific yield [-]\n",
    "ss = 0.00002\n",
    "sy = 0.2"
   ]
  },
  {
   "cell_type": "markdown",
   "id": "ce3ffd58",
   "metadata": {},
   "source": [
    "### Time discretization"
   ]
  },
  {
   "cell_type": "code",
   "execution_count": 97,
   "id": "a94b4cc0",
   "metadata": {},
   "outputs": [],
   "source": [
    "## define the number of stress periods to be equal to the number of days in the recharge time series\n",
    "n_pers = 1\n",
    "\n",
    "#length (number of steps) of stress periods\n",
    "# this variable assumes a uniform time discretization, i.e. all stress periods have the same # of time steps except\n",
    "# for the first stationary time step\n",
    "perlen = 1\n",
    "\n",
    "#number of time steps in each stress period (integer array)\n",
    "n_stps = np.ones(n_pers)\n",
    "n_stps = n_stps.tolist()\n",
    "#ensure that the first stress period (stationary) has length of 1\n",
    "n_stps[0] = 1.0\n",
    "\n",
    "#list with \"False\" everywhere except the 0th element (which is set to 'True')\n",
    "    # to specify steady state (\"True\") or transient (\"False\")\n",
    "    #stress periods\n",
    "steady = np.ones(n_pers, dtype=bool)\n",
    "#ensure stationary first stress period\n",
    "steady[0] = 1\n",
    "\n",
    "#array of stress period numbers, 1-based indexing\n",
    "spers = np.arange(1, n_pers + 1)"
   ]
  },
  {
   "cell_type": "markdown",
   "id": "a94f8751",
   "metadata": {},
   "source": [
    "### Boundary conditions"
   ]
  },
  {
   "cell_type": "code",
   "execution_count": 98,
   "id": "794821a3",
   "metadata": {},
   "outputs": [],
   "source": [
    "##Matrix head on the bottom (south) side (last row, all columns)\n",
    "## For the first setup, running the model with a single conduit with all flow toward the top of the model\n",
    "H_bot= 395.00\n",
    "\n",
    "#head value for the constant head node\n",
    "node_head_bc = 372.00"
   ]
  },
  {
   "cell_type": "markdown",
   "id": "5ece5238",
   "metadata": {},
   "source": [
    "## Create CFP Input Files\n",
    "\n",
    "Conduit Network information\n",
    "*.nam-file of MODFLOW model gets updated at the end\n"
   ]
  },
  {
   "cell_type": "markdown",
   "id": "76a1d392",
   "metadata": {},
   "source": [
    "### CFPy-generate NBR input"
   ]
  },
  {
   "cell_type": "code",
   "execution_count": 99,
   "id": "3211e87e",
   "metadata": {},
   "outputs": [],
   "source": [
    "#Clear prior results\n",
    "clean_results()"
   ]
  },
  {
   "cell_type": "code",
   "execution_count": 100,
   "id": "c9b0f039",
   "metadata": {},
   "outputs": [],
   "source": [
    "\"\"\" create the network array \"\"\"\n",
    "# 1 = conduit node location, 0 = pure matrix cell without conduit node\n",
    "\n",
    "network = np.zeros((280,364))\n",
    "network [:,150] = 1\n",
    "\n",
    "# generate elevations for the network\n",
    "# uniform elevation of 4.5 m\n",
    "elevations = np.ones_like(network) * 372\n",
    "\n",
    "# generate MODFLOW layer elevation information\n",
    "# here, single floats may be used if the layer elevations are uniform"
   ]
  },
  {
   "cell_type": "code",
   "execution_count": 101,
   "id": "03897529",
   "metadata": {},
   "outputs": [],
   "source": [
    "# validate the network\n",
    "validator = cfpy.preprocessing.GeneralValidator(network=network, elevations=elevations)\n",
    "valid_network = validator.validate_network()\n",
    "\n",
    "\"\"\" generating the .nbr-file \"\"\"\n",
    "# we use the same layer elevations here as in the MODFLOW model\n",
    "\n",
    "validator.generate_nbr(\n",
    "    path = path,\n",
    "    nrows = n_rows,\n",
    "    ncols = n_cols,\n",
    "    nlays = n_lays,\n",
    "    nplanes = 1,\n",
    "    layer_elevations = layer_elevations\n",
    ")\n",
    "\n",
    "# plot the network\n",
    "# TODO Können wir hier das schöne Bild wie in EX_02 generieren?\n",
    "im = plt.imshow(valid_network)\n",
    "plt.colorbar(im, shrink=0.3)"
   ]
  },
  {
   "cell_type": "markdown",
   "id": "73e5a3e7",
   "metadata": {},
   "source": [
    "#### Initialize nbr module"
   ]
  },
  {
   "cell_type": "code",
   "execution_count": 102,
   "id": "6987a31d",
   "metadata": {},
   "outputs": [],
   "source": [
    "# NOTE: make sure there is only 1 .nbr-file in the active domain!!\n",
    "# if no or multiple .nbr-files are present, CFPy throws an error\n",
    "\n",
    "nbr = cfpy.nbr()\n",
    "\n",
    "# read model layer/node and conduit layer/node elevations\n",
    "\n",
    "# bot_elev has shape (n_layers, n_rows, n_cols)\n",
    "# cond_elev has shape (n_conduit_layers, n_rows, n_cols)\n",
    "# function looks for an .nbr-file, if none or more than one file is found, an error is raised\n",
    "# make sure to only have one .nbr-file in the working directory\n",
    "bot_elev, cond_elev = nbr.nbr_read()\n",
    "\n",
    "# create nbr-data\n",
    "nbr_data = nbr.nbr(bot_elev, cond_elev)"
   ]
  },
  {
   "cell_type": "code",
   "execution_count": null,
   "id": "e3575b24",
   "metadata": {},
   "outputs": [],
   "source": []
  },
  {
   "cell_type": "code",
   "execution_count": 103,
   "id": "98478ff3",
   "metadata": {},
   "outputs": [],
   "source": [
    "# nbr-data contains:\n",
    "#     0: node numbers\n",
    "#     1: plane numbers\n",
    "#     2: node locations\n",
    "#     3: conduit locations\n",
    "#     4: node neighbors\n",
    "#     5: tube numbers\n",
    "#     6: tube pairs\n",
    "#     7: tube neighbors\n",
    "\n",
    "# nbr data: locations in grid are indexed differently:\n",
    "#     MODFLOW: (LAY, ROW, COL)\n",
    "#     CFPy: (COL, ROW, LAY)"
   ]
  },
  {
   "cell_type": "markdown",
   "id": "4ce594b2",
   "metadata": {},
   "source": [
    "## Plot Network (Currently turned off to speed up troubleshooting"
   ]
  },
  {
   "cell_type": "code",
   "execution_count": 104,
   "id": "c87204d2",
   "metadata": {},
   "outputs": [],
   "source": [
    "network = cfpy.plots.Network(elevs=[bot_elev, cond_elev], nbr_data=nbr_data)\n",
    "plot = network.plot_network(text_shift=0.1, dpi=80, rot_x=15, rot_z=-60, plot_nums=False, kind=\"triangular\")\n",
    "plt.savefig(\"network.jpg\", dpi=600)"
   ]
  },
  {
   "cell_type": "code",
   "execution_count": 105,
   "id": "b6058f8d",
   "metadata": {},
   "outputs": [],
   "source": [
    "%matplotlib inline"
   ]
  },
  {
   "cell_type": "markdown",
   "id": "c1526428",
   "metadata": {},
   "source": [
    "### CFPy parameterization of conduits/CFP Mode 1"
   ]
  },
  {
   "cell_type": "code",
   "execution_count": 106,
   "id": "4dc121e4",
   "metadata": {},
   "outputs": [],
   "source": [
    "## Make pipe parameterization lists\n",
    "\n",
    "#get pipe numbers\n",
    "p_num=nbr_data[5]\n",
    "\n",
    "# parametrization of all k pipes\n",
    "# assuming same characteristics for all pipes\n",
    "# lists for all conduit parametrization can be accessed individually to make differently parametrized pipes\n",
    "# e.g., p_diameter[13] = 0.45\n",
    "\n",
    "# global parameters\n",
    "\n",
    "DIA = 1.1\n",
    "TOR = 1.5\n",
    "KC  = 0.01\n",
    "LRE = 500\n",
    "HRE = 5000\n",
    "\n",
    "# diameter\n",
    "p_diameter = np.ones(len(p_num)) * DIA\n",
    "p_diameter = p_diameter.tolist()\n",
    "\n",
    "# tortuosity\n",
    "p_tortuosity = np.ones(len(p_num)) * TOR\n",
    "p_tortuosity = p_tortuosity.tolist()\n",
    "\n",
    "# roughness height\n",
    "p_rheight = np.ones(len(p_num)) * KC\n",
    "p_rheight = p_rheight.tolist()\n",
    "\n",
    "# lower critical reynolds number\n",
    "p_lcritrey = np.ones(len(p_num)) * LRE\n",
    "p_lcritrey = p_lcritrey.tolist()\n",
    "\n",
    "# higher critical reynolds number\n",
    "p_hcritrey = np.ones(len(p_num)) * HRE\n",
    "p_hcritrey = p_hcritrey.tolist()\n",
    "\n",
    "# summarize all data in a 2D-array\n",
    "pipe_data = [p_num, p_diameter, p_tortuosity, p_rheight, p_lcritrey, p_hcritrey]"
   ]
  },
  {
   "cell_type": "code",
   "execution_count": 107,
   "id": "d8bdecd3",
   "metadata": {},
   "outputs": [],
   "source": [
    "# make lists for node head boundary conditions and tube-matrix exchange parameters\n",
    "\n",
    "# get node numbers\n",
    "n_num = nbr_data[0]\n",
    "\n",
    "# parametrization for all n nodes\n",
    "# if head > 0: fixed head\n",
    "# if head == -1: calculated head\n",
    "n_head = np.ones((len(n_num))) * -1\n",
    "n_head = n_head.tolist()\n",
    "\n",
    "# set individual node boundary conditions here\n",
    "# e.g., for n_head[-1] the last node has a constant head given by the variable node_head_bc\n",
    "# and for n_head[0] the first node has a constant head\n",
    "n_head[8] = node_head_bc\n",
    "\n",
    "# conduit wall conductivity in [m/d]\n",
    "# identical for all conduits\n",
    "# create list containing individual values to parametrize conduits individually\n",
    "kex = 27.6\n",
    "k_exchange = np.ones((len(n_num))) * kex\n",
    "k_exchange = k_exchange.tolist()\n",
    "\n",
    "# summarize parametrization in lists\n",
    "node_data = [n_num, n_head]\n",
    "kex_data = [n_num, k_exchange]"
   ]
  },
  {
   "cell_type": "markdown",
   "id": "79a64881",
   "metadata": {},
   "source": [
    "### Initialzie the CFP Module"
   ]
  },
  {
   "cell_type": "code",
   "execution_count": 108,
   "id": "8823f12a",
   "metadata": {},
   "outputs": [],
   "source": [
    "# if CADS should not be used or standard CFP (CFPv1) is used set cads = None below!\n",
    "\n",
    "cfp = cfpy.cfp(mode = 1, # mode 1 == conduits, 2 == preferential flow layer (not supported), 3 == both (not supported)\n",
    "               nnodes = len(n_num), \n",
    "               npipes = len(p_num), \n",
    "               nlay = n_lays, \n",
    "               nbr_data = nbr_data, \n",
    "               geoheight = cond_elev, \n",
    "               sa_exchange = 1, \n",
    "               epsilon = 0.000001,\n",
    "               niter = 100, \n",
    "               relax = 1., \n",
    "               p_nr = 1., \n",
    "               cond_data = pipe_data, \n",
    "               n_head = node_data, \n",
    "               k_exchange = kex_data, \n",
    "               ncl = 0, \n",
    "               cl = 0, \n",
    "               ltemp = 25.,\n",
    "               condl_data = 0,\n",
    "               cads = None)\n",
    "\n",
    "# create list of strings\n",
    "cfp = cfp.cfp()"
   ]
  },
  {
   "cell_type": "markdown",
   "id": "f5ea27cf",
   "metadata": {},
   "source": [
    "### CFPy - COC (Conduit output control)"
   ]
  },
  {
   "cell_type": "code",
   "execution_count": 109,
   "id": "1966bee6",
   "metadata": {},
   "outputs": [],
   "source": [
    "\"\"\" initialize COC module \"\"\"\n",
    "\n",
    "coc = cfpy.coc(nnodes = len(nbr_data[0]),\n",
    "               node_numbers = nbr_data[0],\n",
    "               n_nts = 1,\n",
    "               npipes = len(nbr_data[5]), \n",
    "               pipe_numbers = nbr_data[5],\n",
    "               t_nts = 1)\n",
    "\n",
    "# create list of strings\n",
    "coc = coc.coc()"
   ]
  },
  {
   "cell_type": "markdown",
   "id": "29ed1ca8",
   "metadata": {},
   "source": [
    "### CFPy = CRCH (conduit recharge)"
   ]
  },
  {
   "cell_type": "code",
   "execution_count": 110,
   "id": "16afa717",
   "metadata": {},
   "outputs": [],
   "source": [
    "# p_crch is list of length (n_nodes) specifying the direct recharge fraction for each node\n",
    "# initially set p_crch to 0 for all nodes (no direct recharge)\n",
    "p_crch = np.zeros((len(n_num))).tolist()\n",
    "\n",
    "# input direct recharge fraction (0 <= p_crch <= 1) for individual nodes\n",
    "p_crch[3] = 1.\n",
    "\n",
    "crch = cfpy.crch(iflag_crch = 1, \n",
    "                 nper = n_pers, \n",
    "                 node_numbers = nbr_data[0], \n",
    "                 p_crch = p_crch)\n",
    "\n",
    "# create list of strings\n",
    "crch = crch.crch()"
   ]
  },
  {
   "cell_type": "markdown",
   "id": "083dc653",
   "metadata": {},
   "source": [
    "## MODFLOW Input Files (FloPy)"
   ]
  },
  {
   "cell_type": "markdown",
   "id": "050fd974",
   "metadata": {},
   "source": [
    "### DIS (Discretization to create model grid)"
   ]
  },
  {
   "cell_type": "code",
   "execution_count": 111,
   "id": "434fd754",
   "metadata": {},
   "outputs": [],
   "source": [
    "# Model grid:\n",
    "# Note: MODFLOW defaults to units of m/day\n",
    "# overall dimensions of domain (in x- and y-direction)\n",
    "Lx = n_cols*delr\n",
    "Ly = n_rows*delc\n",
    "mtop = np.array(bot_elev[0][:][:])\n",
    "mbot = np.array(bot_elev[1:][:][:])\n",
    "\n",
    "# Create dis object:\n",
    "dis = flopy.modflow.ModflowDis(mf, n_lays, n_rows, n_cols, n_pers, delr, delc, top=mtop, botm=mbot,\n",
    "                               perlen=perlen, nstp=n_stps, steady=steady, itmuni=5, lenuni=2)"
   ]
  },
  {
   "cell_type": "markdown",
   "id": "92a80f3b",
   "metadata": {},
   "source": [
    "### BAS (Basic) Assigns conduit head boundaries"
   ]
  },
  {
   "cell_type": "code",
   "execution_count": 112,
   "id": "7e30148b",
   "metadata": {},
   "outputs": [],
   "source": [
    "# if ibound < 0: constant head, if = 0: inactive, if > 0: active.\n",
    "# create arrays to indicate active cells (ibound) and starting heads (H_init)\n",
    "# integer array of dim (z,y,x), makes all cells active \n",
    "ibound = np.ones((n_lays, n_rows, n_cols), dtype=np.int32)\n",
    "# replace leftmost and rightmost columns with -1 to indicate constant head \n",
    "#ibound[1,279,:] = -1 #turning off matrix constant head boundary\n",
    "\n",
    "strt = np.full((n_lays, n_rows,n_cols), topm-3) #initial hydraulic head 3 m below the land surface\n",
    "\n",
    "#make the last row the higher head value\n",
    "#strt[1,279,:] = H_bot   #turning this final row head boundary off\n",
    "\n",
    "bas = flopy.modflow.ModflowBas(mf, ibound=ibound, strt=strt)"
   ]
  },
  {
   "cell_type": "markdown",
   "id": "1408a227",
   "metadata": {},
   "source": [
    "### LPF (Layer Property Flow) :Horizontal and vertical flow params between cells"
   ]
  },
  {
   "cell_type": "code",
   "execution_count": 113,
   "id": "8d31a146",
   "metadata": {},
   "outputs": [],
   "source": [
    "# Only one of either the BCF, LPF, or HUF2 packages should be used to control flow between cells\n",
    "# Can also in this package set confined/unconfined (defaults to confined), cell-by-cell Ks as an array, \n",
    "# storage, specific yield, etc.\n",
    "# defaults to confined\n",
    "\n",
    "#0=confined, >0 = unconfined/convertible\n",
    "laytyp = [2, 2, 2]\n",
    "\n",
    "lpf = flopy.modflow.ModflowLpf(mf, laytyp=laytyp, hk=hk, vka=vka, ss=ss, sy=sy) "
   ]
  },
  {
   "cell_type": "markdown",
   "id": "a06c2545",
   "metadata": {},
   "source": [
    "### OC (Output Control) Decides what outputs to save"
   ]
  },
  {
   "cell_type": "code",
   "execution_count": 114,
   "id": "28ab1396",
   "metadata": {},
   "outputs": [],
   "source": [
    "# create output control file using dictionary\n",
    "oc = flopy.modflow.ModflowOc(mf)"
   ]
  },
  {
   "cell_type": "markdown",
   "id": "5d34d4d8",
   "metadata": {},
   "source": [
    "### PCG (Preconditioned conjugate gradient"
   ]
  },
  {
   "cell_type": "code",
   "execution_count": 115,
   "id": "ba8741cd",
   "metadata": {},
   "outputs": [],
   "source": [
    "pcg = flopy.modflow.ModflowPcg(mf, mxiter=40, iter1=10, ihcofadd=9999, relax=0.97,npcond=2, nbpol=2, iprpcg=5, mutpcg=0, hclose=12000, rclose=10000)"
   ]
  },
  {
   "cell_type": "markdown",
   "id": "81e26064",
   "metadata": {},
   "source": [
    "### RCH (recharge)"
   ]
  },
  {
   "cell_type": "code",
   "execution_count": 116,
   "id": "2a38e34f",
   "metadata": {},
   "outputs": [],
   "source": [
    "\n",
    "# recharge flux distributed over the top of the model - MODFLOW multiplies the fluxes by the horizontal area of the cells \n",
    "# to which they are applied to calculate the volumetric flux rates\n",
    "\n",
    "# generate recharge data\n",
    "rch_ts = np.ones_like(topm) *.8096\n",
    "\n",
    "# flag, 1=rech only applied to top layer\n",
    "nrchop = 1\n",
    "# if non-zero, cell budget data will be saved\n",
    "ipakcb = 50\n",
    "# layer to which recharge is applied to (only used if nrchop=2)\n",
    "irch = 1\n",
    "\n",
    "# dictionary of recharge fluxes for each stress period\n",
    "rech = {}\n",
    "    \n",
    "for num, rech_in in enumerate(rch_ts):\n",
    "    \n",
    "    # make array (n_rows x n_cols) to store cell-by-cell recharge information\n",
    "    # apply recharge to all cells then apply direct recharge in relevant cells\n",
    "    rech_data = np.ones((n_rows, n_cols)) * rech_in\n",
    "    \n",
    "    # direct recharge cells have to be given explicitly\n",
    "    # such as\n",
    "    # rech_data[ROW, COL] = some_direct_recharge\n",
    "    \n",
    "    rech[num] = rech_data\n",
    "\n",
    "rch = flopy.modflow.mfrch.ModflowRch(mf, nrchop=nrchop, ipakcb=ipakcb, rech=rech, irch=irch)"
   ]
  },
  {
   "cell_type": "markdown",
   "id": "c2963eac",
   "metadata": {},
   "source": [
    "## Visualize the matrix, starting heads, and hydraulic conductivity "
   ]
  },
  {
   "cell_type": "code",
   "execution_count": 117,
   "id": "7a46e8e6",
   "metadata": {
    "scrolled": true
   },
   "outputs": [],
   "source": [
    "#Plot cross-section view of model:\n",
    "row = 170     #row to plot on\n",
    "col = 65      #column to plot on\n",
    "\n",
    "#South-North:\n",
    "f,ax = plt.subplots(2,1, figsize=(25,15))                                     #create empty figure and axes objects\n",
    "xsec= flopy.plot.PlotCrossSection(model=mf, ax=ax[0], line={'column': col})  #plot cross-section along given column (change column # to see different locations)\n",
    "k  = xsec.plot_array(hk, cmap='copper', vmin=-10, vmax=100)                 #plot horizontal K as an array, with color range set manually to be consistent with other plots\n",
    "ax[0].plot(np.arange(delr/2,Ly,delr), strt[0,:,col])                         #plots starting heads as a line\n",
    "#ax[0].plot(np.arange(delr/2,Ly,delr), strt[1,:,col], color='blue')           #plots starting heads as a line\n",
    "bc = xsec.plot_ibound()                                                      #plot boundary conditions\n",
    "try: s  = xsec.plot_bc(\"STR\", color='skyblue')                                    #plot stream\n",
    "except: pass\n",
    "try: w = xsec.plot_bc(\"WEL\", color='red')                                         #plot wells (will only show wells at displayed column)\n",
    "except: pass\n",
    "try: g = m.plot_bc('GHB', color='goldenrod')                                      #plot head-dependent flow\n",
    "except: pass\n",
    "g  = xsec.plot_grid()                                                        #plot model grid\n",
    "ax[0].set_xlabel('y [m]')\n",
    "ax[0].set_ylabel('z [m]')\n",
    "ax[0].set_title('north-south cross-section')\n",
    "\n",
    "#East-West:\n",
    "xsec= flopy.plot.PlotCrossSection(model=mf, ax=ax[1], line={'Row': row})    #plot cross-ection along stream row\n",
    "k  = xsec.plot_array(hk, cmap='copper', vmin=-100, vmax=200)                #plot heads as an array, with color range set manually to be consistent with other plots\n",
    "ax[1].plot(np.arange(delc/2,Lx,delc), strt[0,row,:])                        #plots starting heads as a line\n",
    "#ax[1].plot(np.arange(delc/2,Lx,delc), strt[1,row,:], color='blue')          #plots starting heads as a line\n",
    "bc = xsec.plot_ibound()                                                     #plot boundary conditions\n",
    "try: s  = xsec.plot_bc(\"STR\", color='skyblue')                                    #plot stream\n",
    "except: pass\n",
    "try: w = xsec.plot_bc(\"WEL\", color='red')                                        #plot wells (will only show wells at displayed row)\n",
    "except: pass\n",
    "try: g = m.plot_bc('GHB', color='goldenrod')                                     #plot head-dependent flow\n",
    "except: pass\n",
    "g  = xsec.plot_grid()                                                       #plot grid\n",
    "ax[1].set_xlabel('x [m]')\n",
    "ax[1].set_ylabel('z [m]')\n",
    "ax[1].set_title('east-west cross-section')\n",
    "\n",
    "plt.legend(handles=[matplotlib.patches.Patch(color='black',label='no-flow'),\n",
    "                    matplotlib.patches.Patch(color='peru',label='Kx'),\n",
    "                    matplotlib.patches.Patch(color='linen',label='confining unit'),\n",
    "                    matplotlib.patches.Patch(color='red',label='well'),\n",
    "                    matplotlib.patches.Patch(color='skyblue',label='stream'),\n",
    "                    matplotlib.lines.Line2D([],[], color='teal',label='head layer 0'),\n",
    "                    matplotlib.lines.Line2D([],[], color='blue',label='head layer 1')]) #add legend manually"
   ]
  },
  {
   "cell_type": "markdown",
   "id": "912be3b2",
   "metadata": {},
   "source": [
    "## Write input files and run the model"
   ]
  },
  {
   "cell_type": "markdown",
   "id": "8c5ddbcb",
   "metadata": {},
   "source": [
    "### MODFLOW Input"
   ]
  },
  {
   "cell_type": "code",
   "execution_count": 118,
   "id": "4e2ede10",
   "metadata": {},
   "outputs": [],
   "source": [
    "mf.write_input()"
   ]
  },
  {
   "cell_type": "markdown",
   "id": "0c75ae7f",
   "metadata": {},
   "source": [
    "### CFP Mode 1 Input"
   ]
  },
  {
   "cell_type": "markdown",
   "id": "7f9845f9",
   "metadata": {},
   "source": [
    "#### CFPy, write_input"
   ]
  },
  {
   "cell_type": "code",
   "execution_count": 119,
   "id": "057dc387",
   "metadata": {},
   "outputs": [],
   "source": [
    "input_files = cfpy.write_input(modelname = modelname,\n",
    "                               data_strings = [coc, crch, cfp],\n",
    "                               file_extensions = ['coc', 'crch', 'cfp'])\n",
    "\n",
    "# write CFP input files\n",
    "input_files.write_input()"
   ]
  },
  {
   "cell_type": "markdown",
   "id": "51edcb04",
   "metadata": {},
   "source": [
    "### CFPy update_nam"
   ]
  },
  {
   "cell_type": "code",
   "execution_count": 120,
   "id": "1e6a5da1",
   "metadata": {},
   "outputs": [],
   "source": [
    "nam = cfpy.update_nam(modelname = modelname,\n",
    "                      mode = 1,\n",
    "                      cfp_unit_num = 52,\n",
    "                      crch_unit_num = 53,\n",
    "                      coc_unit_num = 54)\n",
    "\n",
    "# update existing .nam file\n",
    "nam.update_nam()"
   ]
  },
  {
   "cell_type": "markdown",
   "id": "dc465b38",
   "metadata": {},
   "source": [
    "## Run MODFLOW 2005 CFP"
   ]
  },
  {
   "cell_type": "code",
   "execution_count": 121,
   "id": "a9c49fd4",
   "metadata": {},
   "outputs": [],
   "source": [
    "success, buff = mf.run_model(silent=False)"
   ]
  },
  {
   "cell_type": "markdown",
   "id": "7bc6cc30",
   "metadata": {},
   "source": [
    "## Post Processing"
   ]
  },
  {
   "cell_type": "markdown",
   "id": "73372009",
   "metadata": {},
   "source": [
    "### Process the information for the MODFLOW Continuum"
   ]
  },
  {
   "cell_type": "code",
   "execution_count": 122,
   "id": "47bf04c6",
   "metadata": {},
   "outputs": [],
   "source": [
    "#Load the data\n",
    "import flopy.utils.binaryfile as bf\n",
    "\n",
    "# get cell head information\n",
    "# choose location to measure heads (lay,row,col), zero-based indexing\n",
    "obs_loc = (0,1,2)\n",
    "\n",
    "# read the list, binary files\n",
    "lst = flopy.utils.MfListBudget(modelname+'.list')\n",
    "hds = bf.HeadFile(modelname+'.hds')\n",
    "# return a list of head and budget print times\n",
    "h_times = hds.get_times()\n",
    "b_times = lst.get_times()\n",
    "\n",
    "heads = []\n",
    "for t in h_times:\n",
    "    heads.append(hds.get_data(totim=t))\n",
    "heads = np.asarray(heads)\n",
    "\n",
    "budgets = []\n",
    "for t in b_times:\n",
    "    budgets.append(lst.get_data(totim=t, incremental=True))\n",
    "\n",
    "# get a time series of heads at a specific location\n",
    "obs_ts = hds.get_ts(obs_loc)"
   ]
  },
  {
   "cell_type": "markdown",
   "id": "2cd6a6c1",
   "metadata": {},
   "source": [
    "### Process the information for CFP Mode1"
   ]
  },
  {
   "cell_type": "code",
   "execution_count": 123,
   "id": "d630ba6e",
   "metadata": {},
   "outputs": [],
   "source": [
    "fr = cfpy.postprocessing.FileReader(\n",
    "    modelname=modelname\n",
    ")\n",
    "\n",
    "node_data, tube_data = [], []\n",
    "\n",
    "node_nums = [1, 2, 5]\n",
    "tube_nums = [1, 2, 4]\n",
    "\n",
    "for node in node_nums:\n",
    "    node_df, tube_df = fr.read_output(node_num=node, tube_num=None)\n",
    "    node_data.append(node_df)\n",
    "    \n",
    "for tube in tube_nums:\n",
    "    node_df, tube_df = fr.read_output(node_num=None, tube_num=tube)\n",
    "    tube_data.append(tube_df)"
   ]
  },
  {
   "cell_type": "code",
   "execution_count": 124,
   "id": "a0160ccf",
   "metadata": {
    "scrolled": true
   },
   "outputs": [],
   "source": [
    "## Lok at this imported node time series data\n",
    "node_data[0].head()"
   ]
  },
  {
   "cell_type": "code",
   "execution_count": 125,
   "id": "358c56ba",
   "metadata": {},
   "outputs": [],
   "source": [
    "## Look at the imported tube time series data\n",
    "tube_data[0].head()"
   ]
  },
  {
   "cell_type": "markdown",
   "id": "faf30abf",
   "metadata": {},
   "source": [
    "## Generate Plots for Visualization (Turned off for troubleshooting)"
   ]
  },
  {
   "cell_type": "code",
   "execution_count": 126,
   "id": "582cacf9",
   "metadata": {
    "scrolled": false
   },
   "outputs": [],
   "source": [
    "## Generate more plots (spatially distributed information)\n",
    "network = cfpy.plots.Network(elevs=[bot_elev, cond_elev], nbr_data=nbr_data)\n",
    "plot = network.plot_results(heads=heads, time=0, layer=2, text_shift=0.1, dpi=100, rot_x=25, rot_z=120, plot_nums=False, n_contours=20, alpha=0.01)\n",
    "plt.savefig(\"results_network.png\", dpi=600)"
   ]
  },
  {
   "cell_type": "code",
   "execution_count": 127,
   "id": "4d935e05",
   "metadata": {},
   "outputs": [],
   "source": [
    "fig, (ax1, ax2) = plt.subplots(nrows=2, ncols=1, figsize=(12,8))\n",
    "\n",
    "im = ax1.contourf(heads[0,1,:,:])\n",
    "ax1.invert_yaxis()\n",
    "fig.colorbar(mappable=im)\n",
    "\n",
    "topo = ax2.contourf(topm)\n",
    "ax2.invert_yaxis()\n",
    "fig.colorbar(mappable=topo)"
   ]
  }
 ],
 "metadata": {
  "kernelspec": {
   "display_name": "Python 3 (ipykernel)",
   "language": "python",
   "name": "python3"
  },
  "language_info": {
   "codemirror_mode": {
    "name": "ipython",
    "version": 3
   },
   "file_extension": ".py",
   "mimetype": "text/x-python",
   "name": "python",
   "nbconvert_exporter": "python",
   "pygments_lexer": "ipython3",
   "version": "3.9.16"
  }
 },
 "nbformat": 4,
 "nbformat_minor": 5
}
