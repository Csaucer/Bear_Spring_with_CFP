{
 "cells": [
  {
   "cell_type": "markdown",
   "id": "a2763f07",
   "metadata": {},
   "source": [
    "# BS_CFP_singleCond_v1\n",
    "\n",
    "#### This note book is designed with the same spatial and hydrological parameters as the BS_CFP_v1 model, except that the model here has a single, straight conduit built in and does NOT use pyKasso to simulate the conduit network based off from geologic field data"
   ]
  },
  {
   "cell_type": "markdown",
   "id": "d760d483",
   "metadata": {},
   "source": [
    "## Import packages necessary to run CFPy, flopy"
   ]
  },
  {
   "cell_type": "code",
   "execution_count": 9,
   "id": "890ec2ce",
   "metadata": {},
   "outputs": [],
   "source": [
    "##Import package dependencies\n",
    "import numpy as np\n",
    "import pandas as pd\n",
    "import matplotlib\n",
    "import matplotlib.pyplot as plt\n",
    "from mpl_toolkits.mplot3d import Axes3D\n",
    "import os\n",
    "\n",
    "import CFPy as cfpy\n",
    "import flopy as flopy\n",
    "path=\"\""
   ]
  },
  {
   "cell_type": "markdown",
   "id": "10fbc09d",
   "metadata": {},
   "source": [
    "## Show Versions w/ line magic\n",
    "Show the versions of python and the imported packages being used in this model"
   ]
  },
  {
   "cell_type": "code",
   "execution_count": 10,
   "id": "45ccad1e",
   "metadata": {},
   "outputs": [
    {
     "name": "stdout",
     "output_type": "stream",
     "text": [
      "The watermark extension is already loaded. To reload it, use:\n",
      "  %reload_ext watermark\n"
     ]
    }
   ],
   "source": [
    "%load_ext watermark"
   ]
  },
  {
   "cell_type": "code",
   "execution_count": 11,
   "id": "75e6b3b5",
   "metadata": {
    "scrolled": true
   },
   "outputs": [
    {
     "name": "stdout",
     "output_type": "stream",
     "text": [
      "Last updated: 2023-04-03T11:36:36.594398-05:00\n",
      "\n",
      "Python implementation: CPython\n",
      "Python version       : 3.9.16\n",
      "IPython version      : 8.10.0\n",
      "\n",
      "Compiler    : MSC v.1929 64 bit (AMD64)\n",
      "OS          : Windows\n",
      "Release     : 10\n",
      "Machine     : AMD64\n",
      "Processor   : Intel64 Family 6 Model 158 Stepping 13, GenuineIntel\n",
      "CPU cores   : 8\n",
      "Architecture: 64bit\n",
      "\n"
     ]
    }
   ],
   "source": [
    "%watermark"
   ]
  },
  {
   "cell_type": "code",
   "execution_count": 12,
   "id": "e77c6ad6",
   "metadata": {
    "scrolled": true
   },
   "outputs": [
    {
     "name": "stdout",
     "output_type": "stream",
     "text": [
      "flopy     : 3.3.6\n",
      "pandas    : 1.5.3\n",
      "CFPy      : 0.1\n",
      "numpy     : 1.24.2\n",
      "matplotlib: 3.7.0\n",
      "\n"
     ]
    }
   ],
   "source": [
    "%watermark --iversions"
   ]
  },
  {
   "cell_type": "code",
   "execution_count": 19,
   "id": "e607149c",
   "metadata": {},
   "outputs": [],
   "source": [
    "##Define helper functions\n",
    "def position_to_index(x, y):\n",
    "    \"\"\"\n",
    "    Get the modflow (!) based index for a given geo position\n",
    "    \n",
    "    Keyword Arguments\n",
    "    x -- x position, m\n",
    "    y -- y position, m\n",
    "    \n",
    "    Return\n",
    "    column index, row index\n",
    "    \"\"\"\n",
    "    \n",
    "    col_idx = np.floor(x / delr) + 1\n",
    "    row_idx = n_rows - np.floor(y / delc)\n",
    "    \n",
    "    return col_idx, row_idx\n",
    "\n",
    "def store_results(number):\n",
    "    \"\"\"\n",
    "    Create a directory and put the current results there\n",
    "    \n",
    "    Keyword Arguments\n",
    "    number -- identifier of the current iteration, float or int\n",
    "    \n",
    "    Return\n",
    "    -\n",
    "    \"\"\"\n",
    "    \n",
    "    # define directory where to store the results\n",
    "    target_dir = os.path.join(path, f\"run_{number}\")\n",
    "    \n",
    "    # make sure the directory does not exist\n",
    "    if os.path.exists(target_dir):\n",
    "        raise Exception(f\"Directory {target_dir} exists already! Unable to write results\")\n",
    "        \n",
    "    # create directory\n",
    "    os.makedirs(target_dir)\n",
    "    \n",
    "    # get alle files that will be moved\n",
    "    files_to_move = glob.glob(\"NODE*\") + glob.glob(\"TUBE*\") \\\n",
    "                    + [f\"{modelname}.list\", f\"{modelname}.hds\", f\"{modelname}.cbc\"] \\\n",
    "                    + [f\"network_{number}.png\"] \\\n",
    "                    + glob.glob(\"*.nbr\") + glob.glob(\"*.coc\") + glob.glob(\"*.cfp\") + glob.glob(\"*.crch\")\n",
    "    \n",
    "    # move files to directory\n",
    "    for f in files_to_move:\n",
    "        source = os.path.join(path, f)\n",
    "        destination = os.path.join(target_dir, f)\n",
    "        shutil.move(source, destination)\n",
    "\n",
    "def clean_results():\n",
    "    \"\"\"\n",
    "    Remove all run-dictionaries\n",
    "    \n",
    "    Keyword Arguments\n",
    "    -\n",
    "    \n",
    "    Return\n",
    "    -\n",
    "    \"\"\"    \n",
    "    run_dirs = glob.glob(os.path.join(path, \"run_*\"))    \n",
    "    for rd in run_dirs:\n",
    "        shutil.rmtree(rd)\n",
    "        \n",
    "def plot_network(valid_network, number):\n",
    "    \"\"\"\n",
    "    Plot and save valid network array as png\n",
    "    \n",
    "    Keyword Arguments\n",
    "    valid_network -- valid network array\n",
    "    number -- identifier of the current iteration, float or int\n",
    "    \n",
    "    Return\n",
    "    -\n",
    "    \"\"\"\n",
    "    \n",
    "    # create a figure \n",
    "    fig = plt.figure(figsize=(10, 10))\n",
    "    \n",
    "    # plot the array\n",
    "    im = plt.imshow(valid_network)\n",
    "    cb = plt.colorbar(im, shrink=0.3)\n",
    "    \n",
    "    # set descriptions\n",
    "    plt.xlabel(\"Spaltenindex\", size=14)\n",
    "    plt.ylabel(\"Reihenindex\", size =14)\n",
    "    cb.set_label(\"Höhe, m\", size=14)\n",
    "    \n",
    "    # save figure\n",
    "    plt.savefig(f'network_{number}.png')"
   ]
  },
  {
   "cell_type": "markdown",
   "id": "e5ab2c6d",
   "metadata": {},
   "source": [
    "## Generate the synthetic karst system using CFP MODE 1"
   ]
  },
  {
   "cell_type": "markdown",
   "id": "9d1a5242",
   "metadata": {},
   "source": [
    "### Set up the appropriate directories (no pyKasso)"
   ]
  },
  {
   "cell_type": "code",
   "execution_count": 13,
   "id": "047ffb39",
   "metadata": {},
   "outputs": [],
   "source": [
    "### Change the active directory to the model directory\n",
    "if not os.path.exists(path):\n",
    "    nb_dir = os.getcwd()\n",
    "    path = os.path.join(nb_dir)"
   ]
  },
  {
   "cell_type": "markdown",
   "id": "d545ab0d",
   "metadata": {},
   "source": [
    "### Create a basic MODFLOW Model using FloPy"
   ]
  },
  {
   "cell_type": "code",
   "execution_count": 17,
   "id": "532a87cb",
   "metadata": {},
   "outputs": [],
   "source": [
    "### Define the model object\n",
    "os.chdir(path)\n",
    "modelname = \"BS_CFP_singleCond_v1\"\n",
    "##Using CFPv2 here which has CADS support\n",
    "# to change, type in the correct FP version for the exe_name\n",
    "mf = flopy.modflow.Modflow(modelname, exe_name=\"cfpv2\")"
   ]
  },
  {
   "cell_type": "markdown",
   "id": "efbb5658",
   "metadata": {},
   "source": [
    "### Define the general domain characteristics (same as the complex CFP model with the pyKasso network)"
   ]
  },
  {
   "cell_type": "markdown",
   "id": "54632711",
   "metadata": {},
   "source": [
    "#### Spatial Domain Characteristics"
   ]
  },
  {
   "cell_type": "code",
   "execution_count": null,
   "id": "9a1a871d",
   "metadata": {},
   "outputs": [],
   "source": [
    "#Import the necessary layer elevation data and make copies of it\n"
   ]
  },
  {
   "cell_type": "code",
   "execution_count": 21,
   "id": "8742449a",
   "metadata": {},
   "outputs": [],
   "source": [
    "n_rows = 280\n",
    "n_cols = 364\n",
    "n_lays=3\n",
    "#width of each cell along rows/columns\n",
    "delr = 10\n",
    "delc = 10\n",
    "\n",
    "#layer properties (utilizing field values provided by Tony, averaging for the bulk \"Galena Group\")\n",
    "layers = np.arange(n_lays)\n",
    "topm = "
   ]
  }
 ],
 "metadata": {
  "kernelspec": {
   "display_name": "Python 3 (ipykernel)",
   "language": "python",
   "name": "python3"
  },
  "language_info": {
   "codemirror_mode": {
    "name": "ipython",
    "version": 3
   },
   "file_extension": ".py",
   "mimetype": "text/x-python",
   "name": "python",
   "nbconvert_exporter": "python",
   "pygments_lexer": "ipython3",
   "version": "3.9.16"
  }
 },
 "nbformat": 4,
 "nbformat_minor": 5
}
